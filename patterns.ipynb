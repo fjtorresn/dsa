{
 "cells": [
  {
   "cell_type": "markdown",
   "metadata": {},
   "source": [
    "## Algorithm Patterns\n",
    "\n",
    "Some basic structures to implement well-known algorithms."
   ]
  },
  {
   "cell_type": "markdown",
   "metadata": {},
   "source": [
    "#### Breadth First Search - Tree (BFS)"
   ]
  },
  {
   "cell_type": "code",
   "execution_count": null,
   "metadata": {},
   "outputs": [],
   "source": [
    "def bfs(start_node):\n",
    "    queue = dequeue([start_node])\n",
    "    visited = set([start_node])\n",
    "\n",
    "    while queue:\n",
    "        current_node = queue.popleft()\n",
    "        for neighbor in get_neighbors(current_node):\n",
    "            if neighbor not in visited:\n",
    "                #do something in the visit\n",
    "                visited.add(neighbor)\n",
    "                queue.append(neighbor)"
   ]
  }
 ],
 "metadata": {
  "kernelspec": {
   "display_name": "Python 3",
   "language": "python",
   "name": "python3"
  },
  "language_info": {
   "name": "python",
   "version": "3.12.0"
  }
 },
 "nbformat": 4,
 "nbformat_minor": 2
}
