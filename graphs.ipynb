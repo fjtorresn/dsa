{
 "cells": [
  {
   "cell_type": "code",
   "execution_count": 1,
   "id": "6335f03d-7366-4793-ac6b-8a0c9d48ceb3",
   "metadata": {},
   "outputs": [],
   "source": [
    "import heapq\n",
    "import sys"
   ]
  },
  {
   "cell_type": "code",
   "execution_count": 2,
   "id": "6564e847-764b-47c6-97a6-930d188c98d2",
   "metadata": {},
   "outputs": [],
   "source": [
    "class Node:\n",
    "    def __init__(self, val):\n",
    "        self.val = val\n",
    "\n",
    "    def __str__(self):\n",
    "        return str(self.val)\n",
    "\n",
    "    def __repr__(self):\n",
    "        return str(self.val)\n",
    "\n",
    "    def __lt__(self, node):\n",
    "        return str(self.val) < str(node.val)\n",
    "\n",
    "    def __le__(self, node):\n",
    "        return str(self.val) <= str(node.val)\n",
    "        \n",
    "class Edge:\n",
    "    def __init__(self, w, dest):\n",
    "        self.dest = dest\n",
    "        self.w = w\n",
    "\n",
    "class DisjointSet:\n",
    "    def __init__(self, nodes):\n",
    "        self.nodes = {node: -1 for node in nodes}\n",
    "\n",
    "    def find(self, node):\n",
    "        if self.nodes[node] == -1:\n",
    "            return node\n",
    "        self.nodes[node] = self.find(self.nodes[node])\n",
    "        return self.find(self.nodes[node])\n",
    "\n",
    "    def union(self, a, b):\n",
    "        parent_a = self.find(a)\n",
    "        parent_b = self.find(b)\n",
    "        if parent_a != parent_b or (parent_a==parent_b==-1):\n",
    "            if self.nodes[parent_a] < self.nodes[parent_b]:\n",
    "                self.nodes[parent_a] = parent_b\n",
    "            else:\n",
    "                self.nodes[parent_b] = parent_a\n",
    "                \n",
    "    def is_cycle(self, a, b):\n",
    "        return self.find(a) == self.find(b)\n",
    "\n",
    "class Graph:\n",
    "    def __init__(self, adj_list):\n",
    "        self.graph = adj_list\n",
    "\n",
    "    def mst_prim(self):\n",
    "        pass\n",
    "\n",
    "    def mst_kruskal(self):\n",
    "        cur_st = DisjointSet(self.graph.keys())\n",
    "        edges = []\n",
    "        vertices = set()\n",
    "        sorted_edges = self.sort_edges()\n",
    "        while len(edges) < len(self.graph)-1:\n",
    "            cur_edge = sorted_edges.pop()\n",
    "            w, end_points = cur_edge\n",
    "            ep = list(end_points)\n",
    "            if not cur_st.is_cycle(ep[0], ep[1]):\n",
    "                cur_st.union(ep[0], ep[1])\n",
    "                edges.append(cur_edge)\n",
    "                vertices.add(ep[0])\n",
    "                vertices.add(ep[1])\n",
    "        return vertices, edges\n",
    "\n",
    "    def sort_edges(self):\n",
    "        zip_edges = [(edge.w, {node, edge.dest}) for node in self.graph for edge in self.graph[node]]\n",
    "        filtered_edges = [zip_edges[0]]\n",
    "        for edge in zip_edges:\n",
    "            if edge not in filtered_edges:\n",
    "                filtered_edges.append(edge)\n",
    "        return sorted(filtered_edges, key=lambda edge: edge[0], reverse=True)        \n",
    "\n",
    "    def dijkstra(self, start, end):\n",
    "        self.distances = {node:(sys.maxsize, None) if node != start else (0, None) for node in self.graph}\n",
    "        visited = set()\n",
    "        pqueue = [(0, start)]\n",
    "        heapq.heapify(pqueue)\n",
    "        while len(visited) < len(self.graph):\n",
    "            dist_node = heapq.heappop(pqueue)\n",
    "            self.update_distances(dist_node, pqueue, visited)\n",
    "            visited.add(dist_node)\n",
    "        return self.find_path(end)\n",
    "\n",
    "    def update_distances(self, dist_node, pq, visited):\n",
    "        cur_dist, cur_node = dist_node\n",
    "        for edge in self.graph[cur_node]:\n",
    "            if edge.dest not in visited:\n",
    "                new_dist = cur_dist + edge.w\n",
    "                if new_dist < self.distances[edge.dest][0]:\n",
    "                    self.distances[edge.dest] = (new_dist, cur_node)\n",
    "                    heapq.heappush(pq, (new_dist, edge.dest))\n",
    "\n",
    "    def find_path(self, node):\n",
    "        if node not in self.graph:\n",
    "            return 0, None\n",
    "        path = [node]\n",
    "        total_dist = self.distances[node][0]\n",
    "        prev_node = self.distances[node][1]\n",
    "        while prev_node:\n",
    "            path.append(prev_node)\n",
    "            total_dist += self.distances[prev_node][0]\n",
    "            prev_node = self.distances[prev_node][1]\n",
    "        return total_dist, path"
   ]
  },
  {
   "cell_type": "code",
   "execution_count": 3,
   "id": "a3c600ec-e1f7-498e-b91e-ef13dbbc04d2",
   "metadata": {},
   "outputs": [],
   "source": [
    "A = Node(\"A\")\n",
    "B = Node(\"B\")\n",
    "C = Node(\"C\")\n",
    "D = Node(\"D\")\n",
    "E = Node(\"E\")\n",
    "F = Node(\"F\")"
   ]
  },
  {
   "cell_type": "code",
   "execution_count": 4,
   "id": "c3cb7de4-1e35-40bf-a5e4-1be150cd7733",
   "metadata": {},
   "outputs": [],
   "source": [
    "adj_list = {A: [Edge(4, D), Edge(6, C), Edge(3, B)],\n",
    "            B: [Edge(3, A), Edge(2, C), Edge(3, E)],\n",
    "            C: [Edge(6, A), Edge(2, B), Edge(3, E), Edge(3, F)],\n",
    "            D: [Edge(4, A), Edge(6, F)],\n",
    "            E: [Edge(3, B), Edge(3, C), Edge(1, F)],\n",
    "            F: [Edge(6, D), Edge(3, C), Edge(1, E)]\n",
    "           }"
   ]
  },
  {
   "cell_type": "code",
   "execution_count": 5,
   "id": "a323ccf9-04fa-4574-8418-4e2c2ccb84af",
   "metadata": {},
   "outputs": [],
   "source": [
    "graph = Graph(adj_list)\n",
    "path, dist = graph.dijkstra(A, F)"
   ]
  },
  {
   "cell_type": "code",
   "execution_count": 6,
   "id": "2501838b-237d-469f-93dd-f67576ebcce4",
   "metadata": {},
   "outputs": [
    {
     "name": "stdout",
     "output_type": "stream",
     "text": [
      "16 [F, E, B, A]\n"
     ]
    }
   ],
   "source": [
    "print(path, dist)"
   ]
  },
  {
   "cell_type": "code",
   "execution_count": 7,
   "id": "054e2407-92d9-435d-ade9-821c80112b90",
   "metadata": {},
   "outputs": [
    {
     "data": {
      "text/plain": [
       "[(6, {A, C}),\n",
       " (6, {D, F}),\n",
       " (4, {A, D}),\n",
       " (3, {A, B}),\n",
       " (3, {B, E}),\n",
       " (3, {C, E}),\n",
       " (3, {C, F}),\n",
       " (2, {B, C}),\n",
       " (1, {E, F})]"
      ]
     },
     "execution_count": 7,
     "metadata": {},
     "output_type": "execute_result"
    }
   ],
   "source": [
    "graph.sort_edges()"
   ]
  },
  {
   "cell_type": "code",
   "execution_count": 8,
   "id": "751434eb-5b33-4854-947a-486d60c770f6",
   "metadata": {},
   "outputs": [],
   "source": [
    "a, b = graph.mst_kruskal()"
   ]
  },
  {
   "cell_type": "code",
   "execution_count": 9,
   "id": "911fd5fd-1243-4f9c-97f1-30e44c133423",
   "metadata": {},
   "outputs": [
    {
     "data": {
      "text/plain": [
       "{A, B, C, D, E, F}"
      ]
     },
     "execution_count": 9,
     "metadata": {},
     "output_type": "execute_result"
    }
   ],
   "source": [
    "a"
   ]
  },
  {
   "cell_type": "code",
   "execution_count": 10,
   "id": "9793ef55-a758-4952-a40f-b11779fd3d5d",
   "metadata": {},
   "outputs": [
    {
     "data": {
      "text/plain": [
       "[(1, {E, F}), (2, {B, C}), (3, {C, F}), (3, {A, B}), (4, {A, D})]"
      ]
     },
     "execution_count": 10,
     "metadata": {},
     "output_type": "execute_result"
    }
   ],
   "source": [
    "b"
   ]
  },
  {
   "cell_type": "code",
   "execution_count": null,
   "id": "069b0d4e-4763-4879-bfd0-633d2d639070",
   "metadata": {},
   "outputs": [],
   "source": []
  }
 ],
 "metadata": {
  "kernelspec": {
   "display_name": "Python 3 (ipykernel)",
   "language": "python",
   "name": "python3"
  },
  "language_info": {
   "codemirror_mode": {
    "name": "ipython",
    "version": 3
   },
   "file_extension": ".py",
   "mimetype": "text/x-python",
   "name": "python",
   "nbconvert_exporter": "python",
   "pygments_lexer": "ipython3",
   "version": "3.12.0"
  }
 },
 "nbformat": 4,
 "nbformat_minor": 5
}
